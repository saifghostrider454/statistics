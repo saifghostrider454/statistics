{
 "cells": [
  {
   "cell_type": "code",
   "execution_count": 49,
   "id": "b7b1ee3a-0c23-48aa-9a36-3474b7580e60",
   "metadata": {},
   "outputs": [],
   "source": [
    "import random"
   ]
  },
  {
   "cell_type": "code",
   "execution_count": 152,
   "id": "2891b656-f18f-40d5-abce-f6910a864c82",
   "metadata": {},
   "outputs": [],
   "source": [
    "class SecondDay:\n",
    "\n",
    "    def __init__(self, series=[]):\n",
    "\n",
    "        self.series = sorted(series)\n",
    "        self.len = len(series)\n",
    "\n",
    "    def percentile_value(self, percentiles=None):\n",
    "\n",
    "        pl = (percentiles / 100) * (self.len + 1)\n",
    "\n",
    "        pos = int(pl) - 1\n",
    "        rest = pl - int(pl)\n",
    "\n",
    "        value = (self.series[pos]) + (self.series[pos + 1] - self.series[pos]) * rest\n",
    "\n",
    "        return value\n",
    "\n",
    "    def percentile(self, value):\n",
    "\n",
    "        x = 0\n",
    "        y = 0\n",
    "        n = self.len\n",
    "\n",
    "        for i in range(self.len):\n",
    "            if value > self.series[i]:\n",
    "                x += 1\n",
    "            elif value == self.series[i]:\n",
    "                y += 1\n",
    "        \n",
    "        value = (x + (0.5 * y)) / n\n",
    "\n",
    "        return f\"{value * 100}%\"\n",
    "\n",
    "    def fiveNumberSummary(self):\n",
    "\n",
    "        self.series = sorted(self.series)\n",
    "\n",
    "        Q1 = round(self.percentile_value(percentiles=25))\n",
    "        Q2 = round(self.percentile_value(percentiles=50))\n",
    "        Q3 = round(self.percentile_value(percentiles=75))\n",
    "        IQR = (Q3 - Q1)\n",
    "        min = round(Q1 - 1.5 * IQR)\n",
    "        max = round(Q3 + 1.5 * IQR)\n",
    "\n",
    "        return f\"boxplot{min, Q1, Q2, Q3, max}\", f\"Outliers: {[x for x in self.series if x < min or x > max]}\"\n",
    "\n",
    "\n",
    "    def covariance(self, X, Y):\n",
    "        X_mean = sum(X) / len(X)\n",
    "        Y_mean = sum(Y) / len(Y)\n",
    "        N = len(X)\n",
    "        total = 0\n",
    "        for i in range(N):\n",
    "            total += (X[i] - X_mean) * (Y[i] - Y_mean)\n",
    "        covar = total / N\n",
    "\n",
    "        return covar\n",
    "\n",
    "    def stand_dev(self, x):\n",
    "        x_mean = sum(x) / len(x)\n",
    "        total = 0\n",
    "        for i in range(len(x)):\n",
    "            total += (x[i] - x_mean) ** 2\n",
    "\n",
    "        return (total / len(x)) ** 0.5\n",
    "\n",
    "    def correlation(self, X, Y):\n",
    "\n",
    "        cov = self.covariance(X, Y)\n",
    "        sigma_X = self.stand_dev(X)\n",
    "        sigma_Y = self.stand_dev(Y)\n",
    "\n",
    "        corr = cov / (sigma_X * sigma_Y)\n",
    "        return round(corr, 2)"
   ]
  },
  {
   "cell_type": "code",
   "execution_count": 153,
   "id": "d439f4ef-9450-43e6-90a7-cf2fab133ab0",
   "metadata": {},
   "outputs": [],
   "source": [
    "arr = [78, 82, 84, 88, 91, 93, 94, 96, 98, 99]\n",
    "arr1 = [2, 6, 213, 241, 260, 281, 290, 314, 321, 350, 600, 1500]"
   ]
  },
  {
   "cell_type": "code",
   "execution_count": 154,
   "id": "766f00eb-7245-4455-903a-3817dfbe0837",
   "metadata": {},
   "outputs": [],
   "source": [
    "exp = [2, 5, 8, 12, 13]\n",
    "salary = [1, 2, 5, 12, 10]"
   ]
  },
  {
   "cell_type": "code",
   "execution_count": 155,
   "id": "d5dfee4e-f193-4a78-a1aa-04e20a1082e4",
   "metadata": {},
   "outputs": [],
   "source": [
    "cov = SecondDay()"
   ]
  },
  {
   "cell_type": "code",
   "execution_count": 158,
   "id": "fa931e70-1b46-4315-861c-8ffcd6811561",
   "metadata": {},
   "outputs": [
    {
     "data": {
      "text/plain": [
       "1.0"
      ]
     },
     "execution_count": 158,
     "metadata": {},
     "output_type": "execute_result"
    }
   ],
   "source": [
    "cov.correlation(salary, salary)"
   ]
  },
  {
   "cell_type": "code",
   "execution_count": null,
   "id": "50b99e34-02ce-432e-befb-15289fdd9a68",
   "metadata": {},
   "outputs": [],
   "source": []
  }
 ],
 "metadata": {
  "kernelspec": {
   "display_name": "Python 3 (ipykernel)",
   "language": "python",
   "name": "python3"
  },
  "language_info": {
   "codemirror_mode": {
    "name": "ipython",
    "version": 3
   },
   "file_extension": ".py",
   "mimetype": "text/x-python",
   "name": "python",
   "nbconvert_exporter": "python",
   "pygments_lexer": "ipython3",
   "version": "3.11.5"
  }
 },
 "nbformat": 4,
 "nbformat_minor": 5
}
